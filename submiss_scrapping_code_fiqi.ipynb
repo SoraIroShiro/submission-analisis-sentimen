{
 "cells": [
  {
   "cell_type": "code",
   "execution_count": 3,
   "metadata": {},
   "outputs": [],
   "source": [
    "#import semua library yang dibutuhkan\n",
    "\n",
    "# Mengimpor pustaka google_play_scraper untuk mengakses ulasan dan informasi aplikasi dari Google Play Store.\n",
    "from google_play_scraper import app, reviews_all, Sort\n",
    "\n",
    "# Pandas untuk manipulasi dan analisis data\n",
    "import pandas as pd  \n",
    "\n",
    "import csv  # Import the csv module"
   ]
  },
  {
   "cell_type": "code",
   "execution_count": 4,
   "metadata": {},
   "outputs": [],
   "source": [
    "# Scrape semua ulasan\n",
    "scrapreview = reviews_all(\n",
    "    'com.miHoYo.GenshinImpact',              # ID aplikasi\n",
    "    lang='id',\n",
    "    country='id',\n",
    "    sort=Sort.MOST_RELEVANT\n",
    ")\n",
    "\n",
    "# Ambil maksimal 15000 data\n",
    "scrapreview = scrapreview[:30000]\n",
    "\n",
    "# Simpan ke CSV dengan 5 kolom: username, content, score, reviewCreatedVersion, at, appVersion\n",
    "with open('review_game_genshin.csv', mode='w', newline='', encoding='utf-8') as file:\n",
    "    writer = csv.writer(file)\n",
    "    writer.writerow(['userName','content', 'score', 'reviewCreatedVersion', 'at', 'appVersion'])  # Header CSV\n",
    "\n",
    "    for review in scrapreview:\n",
    "        writer.writerow([\n",
    "            review.get('userName'),\n",
    "            review.get('content'),\n",
    "            review.get('score'),\n",
    "            review.get('reviewCreatedVersion'),\n",
    "            review.get('at'),\n",
    "            review.get('appVersion')\n",
    "        ])"
   ]
  },
  {
   "cell_type": "code",
   "execution_count": 5,
   "metadata": {},
   "outputs": [],
   "source": [
    "# Konversi ke DataFrame\n",
    "app_reviews_df = pd.DataFrame(scrapreview)\n",
    "\n",
    "# Ambil hanya kolom yang dibutuhkan\n",
    "app_reviews_df = app_reviews_df[['userName', 'content', 'score', 'reviewCreatedVersion', 'at', 'appVersion']]\n",
    "\n",
    "# Simpan ke CSV\n",
    "app_reviews_df.to_csv('review_game_genshin.csv', index=False)"
   ]
  }
 ],
 "metadata": {
  "kernelspec": {
   "display_name": "Python 3",
   "language": "python",
   "name": "python3"
  },
  "language_info": {
   "codemirror_mode": {
    "name": "ipython",
    "version": 3
   },
   "file_extension": ".py",
   "mimetype": "text/x-python",
   "name": "python",
   "nbconvert_exporter": "python",
   "pygments_lexer": "ipython3",
   "version": "3.13.2"
  }
 },
 "nbformat": 4,
 "nbformat_minor": 2
}
