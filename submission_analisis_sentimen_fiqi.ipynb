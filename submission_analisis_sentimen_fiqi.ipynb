{
 "cells": [
  {
   "cell_type": "code",
   "execution_count": null,
   "metadata": {},
   "outputs": [],
   "source": [
    "#import semua library yang dibutuhkan\n",
    "\n"
   ]
  },
  {
   "cell_type": "code",
   "execution_count": null,
   "metadata": {},
   "outputs": [],
   "source": [
    "# Scrape semua ulasan\n",
    "scrapreview = reviews_all(\n",
    "    'com.byu.id',\n",
    "    lang='id',\n",
    "    country='id',\n",
    "    sort=Sort.MOST_RELEVANT\n",
    ")\n",
    "\n",
    "# hanya ambil 15000 data\n",
    "scrapreview = scrapreview[:15000]"
   ]
  }
 ],
 "metadata": {
  "language_info": {
   "name": "python"
  }
 },
 "nbformat": 4,
 "nbformat_minor": 2
}
